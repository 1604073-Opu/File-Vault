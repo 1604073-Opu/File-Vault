{
 "cells": [
  {
   "cell_type": "code",
   "execution_count": 1,
   "metadata": {},
   "outputs": [
    {
     "name": "stderr",
     "output_type": "stream",
     "text": [
      "Using TensorFlow backend.\n",
      "100%|██████████| 716/716 [00:21<00:00, 33.10it/s]\n"
     ]
    }
   ],
   "source": [
    "from keras import backend as K\n",
    "import keras\n",
    "from keras.callbacks import EarlyStopping, TensorBoard\n",
    "from keras.callbacks import ReduceLROnPlateau,Callback\n",
    "from keras.optimizers import Adam\n",
    "K.set_image_data_format('channels_first')\n",
    "from fr_utils import *\n",
    "import keras\n",
    "from generator_utils import *\n",
    "ALPHA = 0.1\n",
    "THRESHOLD = 0.5\n",
    "#IMAGE_SIZE = 96\n",
    "IMAGE_SIZE = 224\n",
    "LAYERS_TO_FREEZE = 60\n",
    "NUM_EPOCHS = 100\n",
    "STEPS_PER_EPOCH = 30\n",
    "BATCH_SIZE = 64"
   ]
  },
  {
   "cell_type": "code",
   "execution_count": 2,
   "metadata": {},
   "outputs": [
    {
     "data": {
      "text/html": [
       "<script>\n",
       "code_show_err=false; \n",
       "function code_toggle_err() {\n",
       " if (code_show_err){\n",
       " $('div.output_stderr').hide();\n",
       " } else {\n",
       " $('div.output_stderr').show();\n",
       " }\n",
       " code_show_err = !code_show_err\n",
       "} \n",
       "$( document ).ready(code_toggle_err);\n",
       "</script>\n",
       "To toggle on/off output_stderr, click <a href=\"javascript:code_toggle_err()\">here</a>."
      ],
      "text/plain": [
       "<IPython.core.display.HTML object>"
      ]
     },
     "execution_count": 2,
     "metadata": {},
     "output_type": "execute_result"
    }
   ],
   "source": [
    "from IPython.display import HTML\n",
    "HTML('''<script>\n",
    "code_show_err=false; \n",
    "function code_toggle_err() {\n",
    " if (code_show_err){\n",
    " $('div.output_stderr').hide();\n",
    " } else {\n",
    " $('div.output_stderr').show();\n",
    " }\n",
    " code_show_err = !code_show_err\n",
    "} \n",
    "$( document ).ready(code_toggle_err);\n",
    "</script>\n",
    "To toggle on/off output_stderr, click <a href=\"javascript:code_toggle_err()\">here</a>.''')"
   ]
  },
  {
   "cell_type": "code",
   "execution_count": 3,
   "metadata": {},
   "outputs": [],
   "source": [
    "def triplet_loss(y_true, y_pred, alpha=ALPHA):\n",
    "    anchor, positive, negative = y_pred[0], y_pred[1], y_pred[2]\n",
    "    pos_dist = tf.reduce_sum(tf.square(tf.subtract(anchor, positive)), axis=-1)\n",
    "    neg_dist = tf.reduce_sum(tf.square(tf.subtract(anchor, negative)), axis=-1)\n",
    "    basic_loss = tf.add(tf.subtract(pos_dist, neg_dist), alpha)\n",
    "    loss = tf.reduce_sum(tf.maximum(basic_loss, 0.0))\n",
    "    return loss"
   ]
  },
  {
   "cell_type": "code",
   "execution_count": 4,
   "metadata": {},
   "outputs": [
    {
     "name": "stderr",
     "output_type": "stream",
     "text": [
      "WARNING: Logging before flag parsing goes to stderr.\n",
      "W0208 15:20:30.964904 139668578576192 deprecation_wrapper.py:119] From /home/span/acad/akabir/myproject1/lib/python3.6/site-packages/keras/backend/tensorflow_backend.py:74: The name tf.get_default_graph is deprecated. Please use tf.compat.v1.get_default_graph instead.\n",
      "\n",
      "W0208 15:20:30.995078 139668578576192 deprecation_wrapper.py:119] From /home/span/acad/akabir/myproject1/lib/python3.6/site-packages/keras/backend/tensorflow_backend.py:517: The name tf.placeholder is deprecated. Please use tf.compat.v1.placeholder instead.\n",
      "\n",
      "W0208 15:20:31.003870 139668578576192 deprecation_wrapper.py:119] From /home/span/acad/akabir/myproject1/lib/python3.6/site-packages/keras/backend/tensorflow_backend.py:4138: The name tf.random_uniform is deprecated. Please use tf.random.uniform instead.\n",
      "\n",
      "W0208 15:20:31.021841 139668578576192 deprecation_wrapper.py:119] From /home/span/acad/akabir/myproject1/lib/python3.6/site-packages/keras/backend/tensorflow_backend.py:174: The name tf.get_default_session is deprecated. Please use tf.compat.v1.get_default_session instead.\n",
      "\n",
      "W0208 15:20:31.022717 139668578576192 deprecation_wrapper.py:119] From /home/span/acad/akabir/myproject1/lib/python3.6/site-packages/keras/backend/tensorflow_backend.py:181: The name tf.ConfigProto is deprecated. Please use tf.compat.v1.ConfigProto instead.\n",
      "\n",
      "W0208 15:20:31.096326 139668578576192 deprecation_wrapper.py:119] From /home/span/acad/akabir/myproject1/lib/python3.6/site-packages/keras/backend/tensorflow_backend.py:3976: The name tf.nn.max_pool is deprecated. Please use tf.nn.max_pool2d instead.\n",
      "\n"
     ]
    },
    {
     "name": "stdout",
     "output_type": "stream",
     "text": [
      "Saved model not found, loading untrained FaceNet\n"
     ]
    },
    {
     "name": "stderr",
     "output_type": "stream",
     "text": [
      "W0208 15:20:32.053534 139668578576192 deprecation.py:506] From /home/span/acad/akabir/myproject1/lib/python3.6/site-packages/keras/backend/tensorflow_backend.py:3445: calling dropout (from tensorflow.python.ops.nn_ops) with keep_prob is deprecated and will be removed in a future version.\n",
      "Instructions for updating:\n",
      "Please use `rate` instead of `keep_prob`. Rate should be set to `rate = 1 - keep_prob`.\n"
     ]
    },
    {
     "name": "stdout",
     "output_type": "stream",
     "text": [
      "19\n"
     ]
    }
   ],
   "source": [
    "model_path = 'Saved Model/tripletmodelVGG.h5'\n",
    "from keras.layers import *\n",
    "if  os.path.exists(model_path):\n",
    "    print(\"Pre trained model found\")\n",
    "    FRmodel = keras.models.load_model(model_path, custom_objects={'triplet_loss': triplet_loss})\n",
    "\n",
    "else:\n",
    "    print('Saved model not found, loading untrained FaceNet')\n",
    "    #FRmodel = faceRecoModel(input_shape=(3, IMAGE_SIZE, IMAGE_SIZE))\n",
    "    #load_weights_from_FaceNet(FRmodel)\n",
    "    X_input = Input((3, IMAGE_SIZE, IMAGE_SIZE))\n",
    "    model = keras.applications.vgg16.VGG16(include_top=False, weights='imagenet', input_tensor=X_input)\n",
    "    print(len(model.layers))\n",
    "    for layer in model.layers:\n",
    "        layer.trainable = False\n",
    "    x = model.output\n",
    "    x = Flatten()(x)\n",
    "    x = Dense(1024, activation='relu')(x)\n",
    "    x = Dropout(0.25)(x)\n",
    "    x = Dense(512, activation='relu')(x)\n",
    "    x = Dropout(0.25)(x)\n",
    "    x = Dense(128, activation='relu')(x)\n",
    "    X = Lambda(lambda  x: K.l2_normalize(x,axis=1))(x)\n",
    "    FRmodel = Model(inputs = X_input, outputs = X, name='FaceRecoModel')\n",
    "\n",
    "#for layer in FRmodel.layers[0: LAYERS_TO_FREEZE]:\n",
    "#    layer.trainable = False"
   ]
  },
  {
   "cell_type": "code",
   "execution_count": 5,
   "metadata": {},
   "outputs": [
    {
     "name": "stderr",
     "output_type": "stream",
     "text": [
      "W0208 15:20:33.846889 139668578576192 deprecation_wrapper.py:119] From /home/span/acad/akabir/myproject1/lib/python3.6/site-packages/keras/optimizers.py:790: The name tf.train.Optimizer is deprecated. Please use tf.compat.v1.train.Optimizer instead.\n",
      "\n"
     ]
    }
   ],
   "source": [
    "input_shape = (3, IMAGE_SIZE, IMAGE_SIZE)\n",
    "A = Input(shape=input_shape, name='anchor')\n",
    "P = Input(shape=input_shape, name='anchorPositive')\n",
    "N = Input(shape=input_shape, name='anchorNegative')\n",
    "\n",
    "enc_A = FRmodel(A)\n",
    "enc_P = FRmodel(P)\n",
    "enc_N = FRmodel(N)\n",
    "optimizer = Adam(lr=0.01, epsilon=1e-08, decay=0.0) \n",
    "# Callbacks\n",
    "learning_rate_reduction = ReduceLROnPlateau(monitor='FaceRecoModel_loss', patience=5, verbose=1, factor=0.5, min_lr=0.00001)\n",
    "checkpoint_dir = 'Saved Model/Tensorboard/'\n",
    "tensorboard = TensorBoard(log_dir=checkpoint_dir + 'TripletModel')\n",
    "# Model\n",
    "tripletModel = Model(inputs=[A, P, N], outputs=[enc_A, enc_P, enc_N])\n",
    "tripletModel.compile(optimizer=optimizer, loss=triplet_loss)\n",
    "\n",
    "gen = batch_generator(BATCH_SIZE)"
   ]
  },
  {
   "cell_type": "code",
   "execution_count": 6,
   "metadata": {},
   "outputs": [
    {
     "name": "stderr",
     "output_type": "stream",
     "text": [
      "W0208 15:20:34.088977 139668578576192 deprecation.py:323] From /home/span/acad/akabir/myproject1/lib/python3.6/site-packages/tensorflow/python/ops/math_grad.py:1250: add_dispatch_support.<locals>.wrapper (from tensorflow.python.ops.array_ops) is deprecated and will be removed in a future version.\n",
      "Instructions for updating:\n",
      "Use tf.where in 2.0, which has the same broadcast rule as np.where\n",
      "W0208 15:20:36.295812 139668578576192 deprecation_wrapper.py:119] From /home/span/acad/akabir/myproject1/lib/python3.6/site-packages/keras/callbacks.py:850: The name tf.summary.merge_all is deprecated. Please use tf.compat.v1.summary.merge_all instead.\n",
      "\n",
      "W0208 15:20:36.297902 139668578576192 deprecation_wrapper.py:119] From /home/span/acad/akabir/myproject1/lib/python3.6/site-packages/keras/callbacks.py:853: The name tf.summary.FileWriter is deprecated. Please use tf.compat.v1.summary.FileWriter instead.\n",
      "\n"
     ]
    },
    {
     "name": "stdout",
     "output_type": "stream",
     "text": [
      "Epoch 1/50\n",
      "10/10 [==============================] - 156s 16s/step - loss: 0.2943 - FaceRecoModel_loss: 0.0914\n",
      "Epoch 2/50\n",
      "10/10 [==============================] - 152s 15s/step - loss: 0.2779 - FaceRecoModel_loss: 0.0955\n",
      "Epoch 3/50\n",
      "10/10 [==============================] - 152s 15s/step - loss: 0.2969 - FaceRecoModel_loss: 0.0969\n",
      "Epoch 4/50\n",
      "10/10 [==============================] - 153s 15s/step - loss: 0.2664 - FaceRecoModel_loss: 0.0995\n",
      "Epoch 5/50\n",
      "10/10 [==============================] - 153s 15s/step - loss: 0.3100 - FaceRecoModel_loss: 0.1108\n",
      "Epoch 6/50\n",
      "10/10 [==============================] - 154s 15s/step - loss: 0.2989 - FaceRecoModel_loss: 0.0850\n",
      "Epoch 7/50\n",
      "10/10 [==============================] - 152s 15s/step - loss: 0.3080 - FaceRecoModel_loss: 0.1109\n",
      "Epoch 8/50\n",
      "10/10 [==============================] - 154s 15s/step - loss: 0.3688 - FaceRecoModel_loss: 0.1297\n",
      "Epoch 9/50\n",
      "10/10 [==============================] - 152s 15s/step - loss: 0.3049 - FaceRecoModel_loss: 0.1099\n",
      "Epoch 10/50\n",
      "10/10 [==============================] - 154s 15s/step - loss: 0.3248 - FaceRecoModel_loss: 0.1086\n",
      "Epoch 11/50\n",
      "10/10 [==============================] - 154s 15s/step - loss: 0.3004 - FaceRecoModel_loss: 0.0979\n",
      "\n",
      "Epoch 00011: ReduceLROnPlateau reducing learning rate to 0.004999999888241291.\n",
      "Epoch 12/50\n",
      "10/10 [==============================] - 153s 15s/step - loss: 0.3051 - FaceRecoModel_loss: 0.1073\n",
      "Epoch 13/50\n",
      "10/10 [==============================] - 153s 15s/step - loss: 0.2985 - FaceRecoModel_loss: 0.1089\n",
      "Epoch 14/50\n",
      "10/10 [==============================] - 155s 16s/step - loss: 0.3227 - FaceRecoModel_loss: 0.1032\n",
      "Epoch 15/50\n",
      "10/10 [==============================] - 157s 16s/step - loss: 0.3141 - FaceRecoModel_loss: 0.0897\n",
      "Epoch 16/50\n",
      "10/10 [==============================] - 155s 15s/step - loss: 0.2899 - FaceRecoModel_loss: 0.1011\n",
      "\n",
      "Epoch 00016: ReduceLROnPlateau reducing learning rate to 0.0024999999441206455.\n",
      "Epoch 17/50\n",
      "10/10 [==============================] - 153s 15s/step - loss: 0.3138 - FaceRecoModel_loss: 0.1045\n",
      "Epoch 18/50\n",
      "10/10 [==============================] - 155s 16s/step - loss: 0.2966 - FaceRecoModel_loss: 0.1004\n",
      "Epoch 19/50\n",
      "10/10 [==============================] - 155s 16s/step - loss: 0.2939 - FaceRecoModel_loss: 0.1063\n",
      "Epoch 20/50\n",
      "10/10 [==============================] - 154s 15s/step - loss: 0.2895 - FaceRecoModel_loss: 0.0947\n",
      "Epoch 21/50\n",
      "10/10 [==============================] - 155s 15s/step - loss: 0.3058 - FaceRecoModel_loss: 0.1032\n",
      "\n",
      "Epoch 00021: ReduceLROnPlateau reducing learning rate to 0.0012499999720603228.\n",
      "Epoch 22/50\n",
      "10/10 [==============================] - 154s 15s/step - loss: 0.3075 - FaceRecoModel_loss: 0.0992\n",
      "Epoch 23/50\n",
      "10/10 [==============================] - 154s 15s/step - loss: 0.3062 - FaceRecoModel_loss: 0.0928\n",
      "Epoch 24/50\n",
      "10/10 [==============================] - 156s 16s/step - loss: 0.2982 - FaceRecoModel_loss: 0.0887\n",
      "Epoch 25/50\n",
      "10/10 [==============================] - 156s 16s/step - loss: 0.3124 - FaceRecoModel_loss: 0.1138\n",
      "Epoch 26/50\n",
      "10/10 [==============================] - 153s 15s/step - loss: 0.3127 - FaceRecoModel_loss: 0.0980\n",
      "\n",
      "Epoch 00026: ReduceLROnPlateau reducing learning rate to 0.0006249999860301614.\n",
      "Epoch 27/50\n",
      "10/10 [==============================] - 157s 16s/step - loss: 0.3022 - FaceRecoModel_loss: 0.1024\n",
      "Epoch 28/50\n",
      "10/10 [==============================] - 155s 15s/step - loss: 0.2854 - FaceRecoModel_loss: 0.0976\n",
      "Epoch 29/50\n",
      "10/10 [==============================] - 155s 15s/step - loss: 0.2976 - FaceRecoModel_loss: 0.0956\n",
      "Epoch 30/50\n",
      "10/10 [==============================] - 153s 15s/step - loss: 0.2965 - FaceRecoModel_loss: 0.0941\n",
      "Epoch 31/50\n",
      "10/10 [==============================] - 152s 15s/step - loss: 0.2980 - FaceRecoModel_loss: 0.0899\n",
      "\n",
      "Epoch 00031: ReduceLROnPlateau reducing learning rate to 0.0003124999930150807.\n",
      "Epoch 32/50\n",
      "10/10 [==============================] - 152s 15s/step - loss: 0.2971 - FaceRecoModel_loss: 0.1001\n",
      "Epoch 33/50\n",
      "10/10 [==============================] - 153s 15s/step - loss: 0.3006 - FaceRecoModel_loss: 0.0933\n",
      "Epoch 34/50\n",
      "10/10 [==============================] - 152s 15s/step - loss: 0.2868 - FaceRecoModel_loss: 0.0987\n",
      "Epoch 35/50\n",
      "10/10 [==============================] - 154s 15s/step - loss: 0.3088 - FaceRecoModel_loss: 0.1078\n",
      "Epoch 36/50\n",
      "10/10 [==============================] - 154s 15s/step - loss: 0.3052 - FaceRecoModel_loss: 0.0974\n",
      "\n",
      "Epoch 00036: ReduceLROnPlateau reducing learning rate to 0.00015624999650754035.\n",
      "Epoch 37/50\n",
      "10/10 [==============================] - 154s 15s/step - loss: 0.2948 - FaceRecoModel_loss: 0.1089\n",
      "Epoch 38/50\n",
      "10/10 [==============================] - 154s 15s/step - loss: 0.2985 - FaceRecoModel_loss: 0.0914\n",
      "Epoch 39/50\n",
      "10/10 [==============================] - 155s 15s/step - loss: 0.3036 - FaceRecoModel_loss: 0.0956\n",
      "Epoch 40/50\n",
      "10/10 [==============================] - 153s 15s/step - loss: 0.2772 - FaceRecoModel_loss: 0.0878\n",
      "Epoch 41/50\n",
      "10/10 [==============================] - 152s 15s/step - loss: 0.2993 - FaceRecoModel_loss: 0.0992\n",
      "\n",
      "Epoch 00041: ReduceLROnPlateau reducing learning rate to 7.812499825377017e-05.\n",
      "Epoch 42/50\n",
      "10/10 [==============================] - 153s 15s/step - loss: 0.3067 - FaceRecoModel_loss: 0.0968\n",
      "Epoch 43/50\n",
      "10/10 [==============================] - 153s 15s/step - loss: 0.3080 - FaceRecoModel_loss: 0.1069\n",
      "Epoch 44/50\n",
      "10/10 [==============================] - 152s 15s/step - loss: 0.3077 - FaceRecoModel_loss: 0.1062\n",
      "Epoch 45/50\n",
      "10/10 [==============================] - 153s 15s/step - loss: 0.3246 - FaceRecoModel_loss: 0.1095\n",
      "Epoch 46/50\n",
      "10/10 [==============================] - 152s 15s/step - loss: 0.2937 - FaceRecoModel_loss: 0.1014\n",
      "\n",
      "Epoch 00046: ReduceLROnPlateau reducing learning rate to 3.9062499126885086e-05.\n",
      "Epoch 47/50\n",
      "10/10 [==============================] - 154s 15s/step - loss: 0.3012 - FaceRecoModel_loss: 0.1028\n",
      "Epoch 48/50\n",
      "10/10 [==============================] - 154s 15s/step - loss: 0.3177 - FaceRecoModel_loss: 0.1044\n",
      "Epoch 49/50\n",
      "10/10 [==============================] - 153s 15s/step - loss: 0.3045 - FaceRecoModel_loss: 0.1036\n",
      "Epoch 50/50\n",
      "10/10 [==============================] - 153s 15s/step - loss: 0.2986 - FaceRecoModel_loss: 0.1051\n"
     ]
    }
   ],
   "source": [
    "#history=tripletModel.fit_generator(gen, epochs=NUM_EPOCHS, steps_per_epoch=STEPS_PER_EPOCH,callbacks=[learning_rate_reduction,tensorboard])\n",
    "history=tripletModel.fit_generator(gen, epochs=50, steps_per_epoch=10,callbacks=[learning_rate_reduction,tensorboard])\n",
    "FRmodel.save(model_path)"
   ]
  },
  {
   "cell_type": "code",
   "execution_count": 9,
   "metadata": {},
   "outputs": [
    {
     "data": {
      "image/png": "[encoded data removed]",
      "text/plain": [
       "<Figure size 432x288 with 1 Axes>"
      ]
     },
     "metadata": {
      "needs_background": "light"
     },
     "output_type": "display_data"
    },
    {
     "data": {
      "image/png": "[encoded data removed]",
      "text/plain": [
       "<Figure size 432x288 with 1 Axes>"
      ]
     },
     "metadata": {
      "needs_background": "light"
     },
     "output_type": "display_data"
    }
   ],
   "source": [
    "import matplotlib.pyplot as plt\n",
    "plt.plot(history.history['loss'])\n",
    "plt.title('Loss vs Epoch')\n",
    "plt.ylabel('Loss')\n",
    "plt.xlabel('Epoch')\n",
    "plt.legend(['Loss'], loc='upper right')\n",
    "plt.savefig('loss.png')\n",
    "plt.show()\n",
    "\n",
    "plt.plot(history.history['FaceRecoModel_loss'])\n",
    "plt.title('FaceRecoModel_loss vs Epoch')\n",
    "plt.ylabel('FaceRecoModel_loss')\n",
    "plt.xlabel('Epoch')\n",
    "plt.legend(['FaceRecoModel_loss'], loc='upper right')\n",
    "plt.savefig('FaceRecoModel_loss.png')\n",
    "plt.show()"
   ]
  }
 ],
 "metadata": {
  "kernelspec": {
   "display_name": "Python 3",
   "language": "python",
   "name": "python3"
  },
  "language_info": {
   "codemirror_mode": {
    "name": "ipython",
    "version": 3
   },
   "file_extension": ".py",
   "mimetype": "text/x-python",
   "name": "python",
   "nbconvert_exporter": "python",
   "pygments_lexer": "ipython3",
   "version": "3.6.3"
  }
 },
 "nbformat": 4,
 "nbformat_minor": 1
}
